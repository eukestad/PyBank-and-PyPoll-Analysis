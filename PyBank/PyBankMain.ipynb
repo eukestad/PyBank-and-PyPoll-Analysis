{
 "cells": [
  {
   "cell_type": "code",
   "execution_count": 1,
   "metadata": {},
   "outputs": [],
   "source": [
    "import os\n",
    "import csv"
   ]
  },
  {
   "cell_type": "code",
   "execution_count": 2,
   "metadata": {},
   "outputs": [],
   "source": [
    "#create lists and dictionaries\n",
    "budget_data = []\n",
    "amounts = []\n",
    "delta_list = []\n",
    "maxincrease = {\"date\":\"\", \"amount\":0}\n",
    "maxdecrease = {\"date\":\"\", \"amount\":0}"
   ]
  },
  {
   "cell_type": "code",
   "execution_count": 3,
   "metadata": {},
   "outputs": [
    {
     "data": {
      "text/plain": [
       "86"
      ]
     },
     "execution_count": 3,
     "metadata": {},
     "output_type": "execute_result"
    }
   ],
   "source": [
    "# import budget data in csv file\n",
    "csvpath = os.path.join('Resources','budget_data.csv')\n",
    "\n",
    "with open(csvpath,newline='') as csvfile:\n",
    "    csvreader = csv.reader(csvfile,delimiter=',')\n",
    "\n",
    "    # pull out header\n",
    "    header = next(csvreader)\n",
    "\n",
    "    # append data into memory list for use later \n",
    "    for row in csvreader:\n",
    "        budget_data.append(row)\n",
    "\n",
    "\n",
    "monthcount = len(budget_data)\n",
    "monthcount"
   ]
  },
  {
   "cell_type": "code",
   "execution_count": 4,
   "metadata": {},
   "outputs": [
    {
     "data": {
      "text/plain": [
       "[867884, 984655, 322013, -69417, 310503]"
      ]
     },
     "execution_count": 4,
     "metadata": {},
     "output_type": "execute_result"
    }
   ],
   "source": [
    "amounts = [int(item[-1]) for item in budget_data]\n",
    "amounts[:5]"
   ]
  },
  {
   "cell_type": "code",
   "execution_count": 5,
   "metadata": {},
   "outputs": [
    {
     "data": {
      "text/plain": [
       "38382578"
      ]
     },
     "execution_count": 5,
     "metadata": {},
     "output_type": "execute_result"
    }
   ],
   "source": [
    "nettotal = sum(amounts)\n",
    "nettotal"
   ]
  },
  {
   "cell_type": "code",
   "execution_count": 6,
   "metadata": {},
   "outputs": [
    {
     "data": {
      "text/plain": [
       "-2315.12"
      ]
     },
     "execution_count": 6,
     "metadata": {},
     "output_type": "execute_result"
    }
   ],
   "source": [
    "for previous, current in zip(budget_data,budget_data[1:]):\n",
    "    \n",
    "    delta = int(current[1]) - int(previous[1])\n",
    "    delta_list.append(delta)\n",
    "    if delta > 0:\n",
    "        if delta > int(maxincrease[\"amount\"]):\n",
    "            maxincrease[\"date\"] = row[0]\n",
    "            maxincrease[\"amount\"] = delta\n",
    "    if delta < 0:\n",
    "        if delta < int(maxdecrease[\"amount\"]):\n",
    "            maxdecrease[\"date\"] = row[0]\n",
    "            maxdecrease[\"amount\"] = delta\n",
    "    \n",
    "avgdelta = round(sum(delta_list)/len(delta_list),2)\n",
    "avgdelta"
   ]
  },
  {
   "cell_type": "code",
   "execution_count": null,
   "metadata": {},
   "outputs": [],
   "source": []
  }
 ],
 "metadata": {
  "kernelspec": {
   "display_name": "Python [conda env:PythonData] *",
   "language": "python",
   "name": "conda-env-PythonData-py"
  },
  "language_info": {
   "codemirror_mode": {
    "name": "ipython",
    "version": 3
   },
   "file_extension": ".py",
   "mimetype": "text/x-python",
   "name": "python",
   "nbconvert_exporter": "python",
   "pygments_lexer": "ipython3",
   "version": "3.6.10"
  }
 },
 "nbformat": 4,
 "nbformat_minor": 4
}
